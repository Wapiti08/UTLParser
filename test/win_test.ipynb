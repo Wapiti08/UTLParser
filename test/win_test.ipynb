{
 "cells": [
  {
   "cell_type": "code",
   "execution_count": 1,
   "metadata": {},
   "outputs": [
    {
     "name": "stderr",
     "output_type": "stream",
     "text": [
      "/Users/zhuoran/Projects/GraphTrace/env/lib/python3.9/site-packages/tqdm/auto.py:21: TqdmWarning: IProgress not found. Please update jupyter and ipywidgets. See https://ipywidgets.readthedocs.io/en/stable/user_install.html\n",
      "  from .autonotebook import tqdm as notebook_tqdm\n",
      "/Users/zhuoran/Projects/GraphTrace/env/lib/python3.9/site-packages/torch/__init__.py:614: UserWarning: torch.set_default_tensor_type() is deprecated as of PyTorch 2.1, please use torch.set_default_dtype() and torch.set_default_device() as alternatives. (Triggered internally at /Users/runner/work/pytorch/pytorch/pytorch/torch/csrc/tensor/python_tensor.cpp:453.)\n",
      "  _C._set_default_tensor_type(t)\n"
     ]
    }
   ],
   "source": [
    "from flair.data import Sentence\n",
    "from flair.nn import Classifier\n",
    "import spacy\n",
    "\n",
    "nlp = spacy.load(\"en_core_web_lg\")"
   ]
  },
  {
   "cell_type": "markdown",
   "metadata": {},
   "source": [
    "testing with spacy for dependency parser"
   ]
  },
  {
   "cell_type": "code",
   "execution_count": 2,
   "metadata": {},
   "outputs": [
    {
     "name": "stdout",
     "output_type": "stream",
     "text": [
      "2016 CD nummod\n",
      "- SYM punct\n",
      "09 CD prep\n",
      "- SYM punct\n",
      "28 CD prep\n",
      "04:30:31 CD meta\n",
      ", , punct\n",
      "Info NNP nmod\n",
      "                  _SP dep\n",
      "CBS NNP nmod\n",
      "    _SP dep\n",
      "SQM NNS appos\n",
      ": : punct\n",
      "Failed VBN ROOT\n",
      "to TO aux\n",
      "start VB xcomp\n",
      "upload VB dobj\n",
      "with IN prep\n",
      "file NN compound\n",
      "pattern NN pobj\n",
      ": : punct\n",
      "C:\\Windows\\servicing\\sqm\\*_std.sqm NN appos\n",
      ", , punct\n",
      "flags NNS conj\n",
      ": : punct\n",
      "0x2 . punct\n",
      "[ XX dep\n",
      "HRESULT NNP dep\n",
      "= NFP dep\n",
      "0x80004005 NNS ROOT\n",
      "- : punct\n",
      "E_FAIL ADD appos\n",
      "] -RRB- punct\n"
     ]
    }
   ],
   "source": [
    "log_str = \"2016-09-28 04:30:31, Info                  CBS    SQM: Failed to start upload with file pattern: C:\\Windows\\servicing\\sqm\\*_std.sqm, flags: 0x2 [HRESULT = 0x80004005 - E_FAIL]\"\n",
    "doc = nlp(log_str)\n",
    "for token in doc:\n",
    "    print(token, token.tag_, token.dep_)\n"
   ]
  },
  {
   "cell_type": "markdown",
   "metadata": {},
   "source": [
    "testing with flair for linker prediction"
   ]
  },
  {
   "cell_type": "code",
   "execution_count": 2,
   "metadata": {},
   "outputs": [],
   "source": [
    "sentence = Sentence(\"2016-09-28 04:30:31, Info                  CBS    SQM: Failed to start upload with file pattern: C:\\Windows\\servicing\\sqm\\*_std.sqm, flags: 0x2 [HRESULT = 0x80004005 - E_FAIL]\")\n"
   ]
  },
  {
   "cell_type": "code",
   "execution_count": 3,
   "metadata": {},
   "outputs": [
    {
     "name": "stdout",
     "output_type": "stream",
     "text": [
      "2024-01-26 13:22:05,976 SequenceTagger predicts: Dictionary with 20 tags: <unk>, O, S-ORG, S-MISC, B-PER, E-PER, S-LOC, B-ORG, E-ORG, I-PER, S-PER, B-MISC, I-MISC, E-MISC, I-ORG, B-LOC, E-LOC, I-LOC, <START>, <STOP>\n"
     ]
    }
   ],
   "source": [
    "# load the NER tagger\n",
    "tagger = Classifier.load('linker')\n",
    "# run NER over sentence\n",
    "tagger.predict(sentence)\n",
    "# iterate over predicted entities and print\n",
    "for label in sentence.get_labels():\n",
    "    print(label)"
   ]
  },
  {
   "cell_type": "code",
   "execution_count": 4,
   "metadata": {},
   "outputs": [
    {
     "name": "stdout",
     "output_type": "stream",
     "text": [
      "2024-01-26 13:22:12,907 SequenceTagger predicts: Dictionary with 47 tags: O, S-NP, B-NP, E-NP, I-NP, S-VP, B-VP, E-VP, I-VP, S-PP, B-PP, E-PP, I-PP, S-ADVP, B-ADVP, E-ADVP, I-ADVP, S-SBAR, B-SBAR, E-SBAR, I-SBAR, S-ADJP, B-ADJP, E-ADJP, I-ADJP, S-PRT, B-PRT, E-PRT, I-PRT, S-CONJP, B-CONJP, E-CONJP, I-CONJP, S-INTJ, B-INTJ, E-INTJ, I-INTJ, S-LST, B-LST, E-LST, I-LST, S-UCP, B-UCP, E-UCP, I-UCP, <START>, <STOP>\n",
      "Span[0:2]: \"2016-09-28 04:30:31\" → NP (0.8472)\n",
      "Span[3:6]: \"Info                  CBS    SQM\" → NP (0.9595)\n",
      "Span[7:11]: \"Failed to start upload\" → VP (0.8208)\n",
      "Span[11:12]: \"with\" → PP (1.0)\n",
      "Span[12:14]: \"file pattern\" → NP (0.9868)\n",
      "Span[15:16]: \"C\" → NP (0.8323)\n",
      "Span[17:20]: \"Windows\\servicing\" → NP (0.9608)\n",
      "Span[23:24]: \"std.sqm\" → NP (0.3615)\n",
      "Span[25:26]: \"flags\" → NP (0.7034)\n",
      "Span[27:28]: \"0x2\" → NP (0.9582)\n",
      "Span[29:30]: \"HRESULT\" → NP (0.998)\n",
      "Span[31:32]: \"0x80004005\" → NP (0.6902)\n",
      "Span[33:34]: \"E\" → NP (0.4441)\n",
      "Span[35:36]: \"FAIL\" → NP (0.4823)\n"
     ]
    }
   ],
   "source": [
    "# syntactic chunk testing\n",
    "syn_tagger = Classifier.load(\"chunk\")\n",
    "syn_tagger.predict(sentence)\n",
    "for chunk in sentence.get_labels():\n",
    "  print(chunk)"
   ]
  },
  {
   "cell_type": "code",
   "execution_count": 5,
   "metadata": {},
   "outputs": [
    {
     "name": "stdout",
     "output_type": "stream",
     "text": [
      "2024-01-26 14:07:05,076 SequenceTagger predicts: Dictionary with 20 tags: <unk>, O, S-ORG, S-MISC, B-PER, E-PER, S-LOC, B-ORG, E-ORG, I-PER, S-PER, B-MISC, I-MISC, E-MISC, I-ORG, B-LOC, E-LOC, I-LOC, <START>, <STOP>\n"
     ]
    }
   ],
   "source": [
    "# relation extraction\n",
    "ner_tagger = Classifier.load(\"ner-fast\")\n",
    "ner_tagger.predict(sentence)\n",
    "\n",
    "entities = sentence.get_labels(\"ner\")\n",
    "for entity in entities:\n",
    "    print(entity)\n",
    "\n",
    "extractor = Classifier.load(\"relations\")\n",
    "extractor.predict(sentence)\n",
    "\n",
    "relations = sentence.get_labels(\"relation\")\n",
    "for relation in relations:\n",
    "    print(relations)\n",
    "\n",
    "for label in sentence.get_labels(\"relation\"):\n",
    "    print(label)\n"
   ]
  },
  {
   "cell_type": "code",
   "execution_count": null,
   "metadata": {},
   "outputs": [],
   "source": []
  },
  {
   "cell_type": "code",
   "execution_count": 9,
   "metadata": {},
   "outputs": [
    {
     "name": "stdout",
     "output_type": "stream",
     "text": [
      "Sentence[37]: \"2016-09-28 04:30:31, Info                  CBS    SQM: Failed to start upload with file pattern: C:\\Windows\\servicing\\sqm\\*_std.sqm, flags: 0x2 [HRESULT = 0x80004005 - E_FAIL]\"\n"
     ]
    }
   ],
   "source": [
    "print(sentence)"
   ]
  },
  {
   "cell_type": "code",
   "execution_count": 10,
   "metadata": {},
   "outputs": [
    {
     "name": "stdout",
     "output_type": "stream",
     "text": [
      "Token[0]: \"2016-09-28\"\n",
      "Token[1]: \"04:30:31\"\n",
      "Token[2]: \",\"\n",
      "Token[3]: \"Info\"\n",
      "Token[4]: \"CBS\"\n",
      "Token[5]: \"SQM\"\n",
      "Token[6]: \":\"\n",
      "Token[7]: \"Failed\"\n",
      "Token[8]: \"to\"\n",
      "Token[9]: \"start\"\n",
      "Token[10]: \"upload\"\n",
      "Token[11]: \"with\"\n",
      "Token[12]: \"file\"\n",
      "Token[13]: \"pattern\"\n",
      "Token[14]: \":\"\n",
      "Token[15]: \"C\"\n",
      "Token[16]: \":\\\"\n",
      "Token[17]: \"Windows\"\n",
      "Token[18]: \"\\\"\n",
      "Token[19]: \"servicing\"\n",
      "Token[20]: \"\\\"\n",
      "Token[21]: \"sqm\"\n",
      "Token[22]: \"\\*_\"\n",
      "Token[23]: \"std.sqm\"\n",
      "Token[24]: \",\"\n",
      "Token[25]: \"flags\"\n",
      "Token[26]: \":\"\n",
      "Token[27]: \"0x2\"\n",
      "Token[28]: \"[\"\n",
      "Token[29]: \"HRESULT\"\n",
      "Token[30]: \"=\"\n",
      "Token[31]: \"0x80004005\"\n",
      "Token[32]: \"-\"\n",
      "Token[33]: \"E\"\n",
      "Token[34]: \"_\"\n",
      "Token[35]: \"FAIL\"\n",
      "Token[36]: \"]\"\n"
     ]
    }
   ],
   "source": [
    "for token in sentence:\n",
    "    print(token)"
   ]
  },
  {
   "cell_type": "code",
   "execution_count": null,
   "metadata": {},
   "outputs": [],
   "source": []
  }
 ],
 "metadata": {
  "kernelspec": {
   "display_name": "env",
   "language": "python",
   "name": "python3"
  },
  "language_info": {
   "codemirror_mode": {
    "name": "ipython",
    "version": 3
   },
   "file_extension": ".py",
   "mimetype": "text/x-python",
   "name": "python",
   "nbconvert_exporter": "python",
   "pygments_lexer": "ipython3",
   "version": "3.9.6"
  }
 },
 "nbformat": 4,
 "nbformat_minor": 2
}
