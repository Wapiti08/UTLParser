{
 "cells": [
  {
   "cell_type": "code",
   "execution_count": 5,
   "metadata": {},
   "outputs": [],
   "source": [
    "from flair.data import Sentence\n",
    "from flair.nn import Classifier\n",
    "import spacy\n",
    "from pathlib import Path\n",
    "\n",
    "nlp = spacy.load(\"en_core_web_lg\")"
   ]
  },
  {
   "cell_type": "code",
   "execution_count": 6,
   "metadata": {},
   "outputs": [],
   "source": [
    "struc_file = Path.cwd().parent.joinpath(\"data\", \"AIT\", \"fox\",\"gather\",\"inet-dns\", \"logs\", \"dnsmasq.log\")"
   ]
  },
  {
   "cell_type": "code",
   "execution_count": 7,
   "metadata": {},
   "outputs": [
    {
     "name": "stdout",
     "output_type": "stream",
     "text": [
      "Jan 14 08:16:58 dnsmasq[14460]: using nameserver 127.0.0.1#53 for domain 228.131.168.192.in-addr.arpa \n",
      "\n"
     ]
    }
   ],
   "source": [
    "\n",
    "with struc_file.open(\"r\") as fr:\n",
    "    data = fr.readlines()\n",
    "\n",
    "print(data[10])\n",
    "test_str = data[10]"
   ]
  },
  {
   "cell_type": "code",
   "execution_count": 10,
   "metadata": {},
   "outputs": [],
   "source": [
    "import re\n",
    "import yaml\n",
    "\n",
    "with open(\"../config.yaml\") as fr:\n",
    "    config = yaml.safe_load(fr)\n"
   ]
  },
  {
   "cell_type": "code",
   "execution_count": 11,
   "metadata": {},
   "outputs": [
    {
     "name": "stdout",
     "output_type": "stream",
     "text": [
      "r\"\\b(?:\\d{1,3}\\.){3}\\d{1,3}\\b\"\n"
     ]
    }
   ],
   "source": [
    "print(config['regex']['ip'])"
   ]
  },
  {
   "cell_type": "code",
   "execution_count": 12,
   "metadata": {},
   "outputs": [
    {
     "data": {
      "text/plain": [
       "[]"
      ]
     },
     "execution_count": 12,
     "metadata": {},
     "output_type": "execute_result"
    }
   ],
   "source": [
    "re.findall(config['regex']['ip'], test_str)"
   ]
  },
  {
   "cell_type": "code",
   "execution_count": 1,
   "metadata": {},
   "outputs": [
    {
     "name": "stderr",
     "output_type": "stream",
     "text": [
      "/Users/zhuoran/Projects/GraphTrace/env/lib/python3.9/site-packages/tqdm/auto.py:21: TqdmWarning: IProgress not found. Please update jupyter and ipywidgets. See https://ipywidgets.readthedocs.io/en/stable/user_install.html\n",
      "  from .autonotebook import tqdm as notebook_tqdm\n",
      "/Users/zhuoran/Projects/GraphTrace/env/lib/python3.9/site-packages/torch/__init__.py:614: UserWarning: torch.set_default_tensor_type() is deprecated as of PyTorch 2.1, please use torch.set_default_dtype() and torch.set_default_device() as alternatives. (Triggered internally at /Users/runner/work/pytorch/pytorch/pytorch/torch/csrc/tensor/python_tensor.cpp:453.)\n",
      "  _C._set_default_tensor_type(t)\n"
     ]
    }
   ],
   "source": [
    "from flair.data import Sentence\n",
    "from flair.nn import Classifier\n",
    "import spacy\n",
    "from pathlib import Path\n",
    "\n",
    "nlp = spacy.load(\"en_core_web_lg\")"
   ]
  },
  {
   "cell_type": "markdown",
   "metadata": {},
   "source": [
    "Test with flair"
   ]
  },
  {
   "cell_type": "code",
   "execution_count": 8,
   "metadata": {},
   "outputs": [
    {
     "name": "stdout",
     "output_type": "stream",
     "text": [
      "2024-01-30 14:42:10,852 SequenceTagger predicts: Dictionary with 20 tags: <unk>, O, S-ORG, S-MISC, B-PER, E-PER, S-LOC, B-ORG, E-ORG, I-PER, S-PER, B-MISC, I-MISC, E-MISC, I-ORG, B-LOC, E-LOC, I-LOC, <START>, <STOP>\n",
      "Sentence[16]: \"Jan 14 08:16:58 dnsmasq[14460]: using nameserver 127.0.0.1#53 for domain 228.131.168.192.in-addr.arpa\"\n"
     ]
    }
   ],
   "source": [
    "# check the built-in entity recognizer\n",
    "\n",
    "sentence = Sentence(test_str)\n",
    "ner_tagger = Classifier.load(\"ner\")\n",
    "ner_tagger.predict(sentence)\n",
    "print(sentence)\n",
    "\n",
    "entities = sentence.get_labels(\"ner\")\n",
    "for entity in entities:\n",
    "    print(entity)\n"
   ]
  },
  {
   "cell_type": "code",
   "execution_count": 12,
   "metadata": {},
   "outputs": [
    {
     "name": "stdout",
     "output_type": "stream",
     "text": [
      "Token[0]: \"Jan\"\n",
      "Token[1]: \"14\"\n",
      "Token[2]: \"08:16:58\"\n",
      "Token[3]: \"dnsmasq\"\n",
      "Token[4]: \"[\"\n",
      "Token[5]: \"14460\"\n",
      "Token[6]: \"]\"\n",
      "Token[7]: \":\"\n",
      "Token[8]: \"using\"\n",
      "Token[9]: \"nameserver\"\n",
      "Token[10]: \"127.0.0.1\"\n",
      "Token[11]: \"#\"\n",
      "Token[12]: \"53\"\n",
      "Token[13]: \"for\"\n",
      "Token[14]: \"domain\"\n",
      "Token[15]: \"228.131.168.192.in-addr.arpa\"\n"
     ]
    }
   ],
   "source": [
    "# check the tokens\n",
    "from flair.tokenization import Tokenizer\n",
    "\n",
    "for token in sentence:\n",
    "    print(token)"
   ]
  },
  {
   "cell_type": "markdown",
   "metadata": {},
   "source": [
    "Test with spacy"
   ]
  },
  {
   "cell_type": "code",
   "execution_count": 21,
   "metadata": {},
   "outputs": [
    {
     "name": "stdout",
     "output_type": "stream",
     "text": [
      "================\n",
      "Jan\n",
      "DATE\n",
      "================\n",
      "14\n",
      "DATE\n",
      "================\n",
      "08:16:58\n",
      "\n",
      "================\n",
      "dnsmasq[14460\n",
      "ORG\n",
      "================\n",
      "]\n",
      "\n",
      "================\n",
      ":\n",
      "\n",
      "================\n",
      "using\n",
      "\n",
      "================\n",
      "nameserver\n",
      "\n",
      "================\n",
      "127.0.0.1#53\n",
      "DATE\n",
      "================\n",
      "for\n",
      "\n",
      "================\n",
      "domain\n",
      "\n",
      "================\n",
      "228.131.168.192.in-addr.arpa\n",
      "\n",
      "================\n",
      "\n",
      "\n",
      "\n"
     ]
    }
   ],
   "source": [
    "\n",
    "doc = nlp(test_str)\n",
    "for token in doc:\n",
    "    print('================')\n",
    "    print(token.text)\n",
    "    print(token.ent_type_)\n",
    "    "
   ]
  },
  {
   "cell_type": "code",
   "execution_count": null,
   "metadata": {},
   "outputs": [],
   "source": []
  }
 ],
 "metadata": {
  "kernelspec": {
   "display_name": "env",
   "language": "python",
   "name": "python3"
  },
  "language_info": {
   "codemirror_mode": {
    "name": "ipython",
    "version": 3
   },
   "file_extension": ".py",
   "mimetype": "text/x-python",
   "name": "python",
   "nbconvert_exporter": "python",
   "pygments_lexer": "ipython3",
   "version": "3.9.6"
  }
 },
 "nbformat": 4,
 "nbformat_minor": 2
}
