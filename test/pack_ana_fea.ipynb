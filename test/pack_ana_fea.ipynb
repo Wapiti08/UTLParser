{
 "cells": [
  {
   "cell_type": "code",
   "execution_count": 1,
   "metadata": {},
   "outputs": [],
   "source": [
    "import json\n"
   ]
  },
  {
   "cell_type": "code",
   "execution_count": 2,
   "metadata": {},
   "outputs": [],
   "source": [
    "file_name = \"../data/0.0.2.json\"\n",
    "with open(file_name, 'r') as fr:\n",
    "    data = json.load(fr)\n"
   ]
  },
  {
   "cell_type": "code",
   "execution_count": 5,
   "metadata": {},
   "outputs": [
    {
     "data": {
      "text/plain": [
       "dict"
      ]
     },
     "execution_count": 5,
     "metadata": {},
     "output_type": "execute_result"
    }
   ],
   "source": [
    "type(data)"
   ]
  },
  {
   "cell_type": "code",
   "execution_count": 6,
   "metadata": {},
   "outputs": [
    {
     "data": {
      "text/plain": [
       "dict_keys(['Package', 'CreatedTimestamp', 'Analysis'])"
      ]
     },
     "execution_count": 6,
     "metadata": {},
     "output_type": "execute_result"
    }
   ],
   "source": [
    "data.keys()"
   ]
  },
  {
   "cell_type": "code",
   "execution_count": 9,
   "metadata": {},
   "outputs": [
    {
     "data": {
      "text/plain": [
       "dict_keys(['import', 'install'])"
      ]
     },
     "execution_count": 9,
     "metadata": {},
     "output_type": "execute_result"
    }
   ],
   "source": [
    "data['Analysis'].keys()"
   ]
  },
  {
   "cell_type": "code",
   "execution_count": 16,
   "metadata": {},
   "outputs": [],
   "source": [
    "def get_all_keys_levels(dictionary, level=0):\n",
    "    keys = []\n",
    "    for key,value in dictionary.items():\n",
    "        keys.append((key, level))\n",
    "        if isinstance(value, dict):\n",
    "            keys.extend(get_all_keys_levels(value,level+1))\n",
    "    return keys"
   ]
  },
  {
   "cell_type": "code",
   "execution_count": 17,
   "metadata": {},
   "outputs": [],
   "source": [
    "all_keys = get_all_keys_levels(data)"
   ]
  },
  {
   "cell_type": "code",
   "execution_count": 18,
   "metadata": {},
   "outputs": [
    {
     "data": {
      "text/plain": [
       "[('Package', 0),\n",
       " ('Name', 1),\n",
       " ('Version', 1),\n",
       " ('Ecosystem', 1),\n",
       " ('CreatedTimestamp', 0),\n",
       " ('Analysis', 0),\n",
       " ('import', 1),\n",
       " ('Status', 2),\n",
       " ('Stdout', 2),\n",
       " ('Stderr', 2),\n",
       " ('Files', 2),\n",
       " ('Sockets', 2),\n",
       " ('Commands', 2),\n",
       " ('install', 1),\n",
       " ('Status', 2),\n",
       " ('Stdout', 2),\n",
       " ('Stderr', 2),\n",
       " ('Files', 2),\n",
       " ('Sockets', 2),\n",
       " ('Commands', 2)]"
      ]
     },
     "execution_count": 18,
     "metadata": {},
     "output_type": "execute_result"
    }
   ],
   "source": [
    "all_keys"
   ]
  },
  {
   "cell_type": "code",
   "execution_count": null,
   "metadata": {},
   "outputs": [],
   "source": [
    "data['']"
   ]
  }
 ],
 "metadata": {
  "kernelspec": {
   "display_name": "Python 3",
   "language": "python",
   "name": "python3"
  },
  "language_info": {
   "codemirror_mode": {
    "name": "ipython",
    "version": 3
   },
   "file_extension": ".py",
   "mimetype": "text/x-python",
   "name": "python",
   "nbconvert_exporter": "python",
   "pygments_lexer": "ipython3",
   "version": "3.8.1"
  },
  "orig_nbformat": 4
 },
 "nbformat": 4,
 "nbformat_minor": 2
}
