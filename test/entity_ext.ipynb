{
 "cells": [
  {
   "cell_type": "code",
   "execution_count": 6,
   "metadata": {},
   "outputs": [],
   "source": [
    "import spacy\n",
    "from pathlib import Path\n",
    "import json\n",
    "\n",
    "nlp = spacy.load(\"en_core_web_lg\")"
   ]
  },
  {
   "cell_type": "code",
   "execution_count": 8,
   "metadata": {},
   "outputs": [],
   "source": [
    "struc_file = Path.cwd().parent.joinpath(\"data\", \"AIT\", \"fox\",\"gather\",\"webserver\", \"logs\", \"audit\", \"audit.log\")\n",
    "unstruc_file = Path.cwd().parent.joinpath(\"data\", \"Windows\", \"Windows.log\")"
   ]
  },
  {
   "cell_type": "code",
   "execution_count": 17,
   "metadata": {},
   "outputs": [],
   "source": [
    "with struc_file.open(\"r\") as fr:\n",
    "    struc_data = fr.readlines()\n",
    "\n",
    "with unstruc_file.open(\"r\") as fr:\n",
    "    unstruc_data = fr.readlines()"
   ]
  },
  {
   "cell_type": "code",
   "execution_count": 15,
   "metadata": {},
   "outputs": [
    {
     "name": "stdout",
     "output_type": "stream",
     "text": [
      "type=USER_START msg=audit(1642205821.358:368): pid=4803 uid=0 auid=0 ses=63 msg='op=PAM:session_open acct=\"root\" exe=\"/usr/sbin/cron\" hostname=? addr=? terminal=cron res=success'\n",
      "\n",
      "========= extracted entities =========\n",
      "Extrating entities from text: type=USER_START msg=audit(1642205821.358:368): pid=4803 uid=0 auid=0 ses=63 msg='op=PAM:session_open acct=\"root\" exe=\"/usr/sbin/cron\" hostname=? addr=? terminal=cron res=success'\n",
      "\n",
      "hostname= WORK_OF_ART\n"
     ]
    }
   ],
   "source": [
    "print(struc_data[11])\n",
    "doc = nlp(struc_data[11])\n",
    "print(\"========= extracted entities =========\")\n",
    "for entity in doc.ents:\n",
    "    print(\"Extrating entities from text:\",doc)\n",
    "    print(entity.text, entity.label_)"
   ]
  },
  {
   "cell_type": "code",
   "execution_count": 18,
   "metadata": {},
   "outputs": [
    {
     "name": "stdout",
     "output_type": "stream",
     "text": [
      "2016-09-28 04:30:31, Info                  CBS    SQM: Failed to start upload with file pattern: C:\\Windows\\servicing\\sqm\\*_std.sqm, flags: 0x2 [HRESULT = 0x80004005 - E_FAIL]\n",
      "\n",
      "========= extracted entities =========\n",
      "Extrating entities from text: 2016-09-28 04:30:31, Info                  CBS    SQM: Failed to start upload with file pattern: C:\\Windows\\servicing\\sqm\\*_std.sqm, flags: 0x2 [HRESULT = 0x80004005 - E_FAIL]\n",
      "\n",
      "2016-09-28 DATE\n",
      "Extrating entities from text: 2016-09-28 04:30:31, Info                  CBS    SQM: Failed to start upload with file pattern: C:\\Windows\\servicing\\sqm\\*_std.sqm, flags: 0x2 [HRESULT = 0x80004005 - E_FAIL]\n",
      "\n",
      "CBS ORG\n",
      "Extrating entities from text: 2016-09-28 04:30:31, Info                  CBS    SQM: Failed to start upload with file pattern: C:\\Windows\\servicing\\sqm\\*_std.sqm, flags: 0x2 [HRESULT = 0x80004005 - E_FAIL]\n",
      "\n",
      "SQM ORG\n",
      "Extrating entities from text: 2016-09-28 04:30:31, Info                  CBS    SQM: Failed to start upload with file pattern: C:\\Windows\\servicing\\sqm\\*_std.sqm, flags: 0x2 [HRESULT = 0x80004005 - E_FAIL]\n",
      "\n",
      "0x2 CARDINAL\n"
     ]
    }
   ],
   "source": [
    "print(unstruc_data[11])\n",
    "doc = nlp(unstruc_data[11])\n",
    "print(\"========= extracted entities =========\")\n",
    "for entity in doc.ents:\n",
    "    print(\"Extrating entities from text:\",doc)\n",
    "    print(entity.text, entity.label_)"
   ]
  },
  {
   "cell_type": "code",
   "execution_count": 19,
   "metadata": {},
   "outputs": [
    {
     "name": "stdout",
     "output_type": "stream",
     "text": [
      "========= extracted tokens =========\n",
      "2016 NUM nummod False\n",
      "- SYM punct False\n",
      "09 NUM appos False\n",
      "- SYM punct False\n",
      "28 NUM prep False\n",
      "04:30:31 NUM nsubj False\n",
      ", PUNCT punct False\n",
      "Info PROPN compound False\n",
      "                  SPACE dep False\n",
      "CBS PROPN compound False\n",
      "    SPACE dep False\n",
      "SQM PROPN appos False\n",
      ": PUNCT punct False\n",
      "Failed VERB ROOT False\n",
      "to PART aux True\n",
      "start VERB xcomp False\n",
      "upload VERB xcomp False\n",
      "with ADP prep True\n",
      "file NOUN compound False\n",
      "pattern NOUN pobj False\n",
      ": PUNCT punct False\n",
      "C:\\Windows\\servicing\\sqm\\*_std.sqm NOUN appos False\n",
      ", PUNCT punct False\n",
      "flags NOUN appos False\n",
      ": PUNCT punct False\n",
      "0x2 NUM punct False\n",
      "[ PUNCT nmod False\n",
      "HRESULT NOUN ROOT False\n",
      "= NOUN punct False\n",
      "0x80004005 NUM appos False\n",
      "- PUNCT punct False\n",
      "E_FAIL NOUN conj False\n",
      "] X conj False\n",
      "\n",
      " SPACE dep False\n"
     ]
    }
   ],
   "source": [
    "print(\"========= extracted tokens =========\")\n",
    "for token in doc:\n",
    "    print(token.text, token.pos_, token.dep_, token.is_stop)"
   ]
  },
  {
   "cell_type": "code",
   "execution_count": 22,
   "metadata": {},
   "outputs": [],
   "source": [
    "import networkx as nx\n",
    "\n"
   ]
  },
  {
   "cell_type": "code",
   "execution_count": null,
   "metadata": {},
   "outputs": [],
   "source": []
  }
 ],
 "metadata": {
  "kernelspec": {
   "display_name": "env",
   "language": "python",
   "name": "python3"
  },
  "language_info": {
   "codemirror_mode": {
    "name": "ipython",
    "version": 3
   },
   "file_extension": ".py",
   "mimetype": "text/x-python",
   "name": "python",
   "nbconvert_exporter": "python",
   "pygments_lexer": "ipython3",
   "version": "3.9.6"
  }
 },
 "nbformat": 4,
 "nbformat_minor": 2
}
