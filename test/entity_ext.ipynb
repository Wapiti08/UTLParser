{
 "cells": [
  {
   "cell_type": "code",
   "execution_count": 4,
   "metadata": {},
   "outputs": [],
   "source": [
    "import spacy\n",
    "from pathlib import Path\n",
    "\n",
    "nlp = spacy.load(\"en_core_web_sm\")"
   ]
  },
  {
   "cell_type": "code",
   "execution_count": 13,
   "metadata": {},
   "outputs": [],
   "source": [
    "sample_file = Path.cwd().parent.joinpath(\"data\", \"honeynet\", \"var-log\",\"var\",\"log\", \"messages.20\")"
   ]
  },
  {
   "cell_type": "code",
   "execution_count": 14,
   "metadata": {},
   "outputs": [],
   "source": [
    "with sample_file.open(\"r\") as fr:\n",
    "    data = fr.readlines()\n"
   ]
  },
  {
   "cell_type": "code",
   "execution_count": 15,
   "metadata": {},
   "outputs": [
    {
     "name": "stdout",
     "output_type": "stream",
     "text": [
      "10:25:21 TIME\n"
     ]
    }
   ],
   "source": [
    "doc = nlp(data[10])\n",
    "print(\"========= extracted entities =========\")\n",
    "for entity in doc.ents:\n",
    "\n",
    "    print(entity.text, entity.label_)"
   ]
  },
  {
   "cell_type": "code",
   "execution_count": 21,
   "metadata": {},
   "outputs": [
    {
     "name": "stdout",
     "output_type": "stream",
     "text": [
      "========= extracted tokens =========\n",
      "Sep PROPN nsubj False\n",
      "  SPACE dep False\n",
      "4 NUM nummod False\n",
      "10:25:21 NUM nummod False\n",
      "combo ADJ amod False\n",
      "sshd(pam_unix)[27538 PROPN appos False\n",
      "] PUNCT punct False\n",
      ": PUNCT punct False\n",
      "authentication NOUN compound False\n",
      "failure NOUN appos False\n",
      "; PUNCT punct False\n",
      "logname= NUM punct False\n",
      "uid=0 NOUN nmod False\n",
      "euid=0 PROPN compound False\n",
      "tty PROPN ROOT False\n",
      "= VERB punct False\n",
      "NODEVssh PROPN nmod False\n",
      "ruser= NUM punct False\n",
      "rhost=210.127.68.18 NUM appos False\n",
      "  SPACE dep False\n",
      "user NOUN appos False\n",
      "= NOUN punct False\n",
      "webmaster NOUN amod False\n",
      "\n",
      " SPACE dep False\n"
     ]
    }
   ],
   "source": [
    "print(\"========= extracted tokens =========\")\n",
    "for token in doc:\n",
    "    print(token.text, token.pos_, token.dep_, token.is_stop)"
   ]
  },
  {
   "cell_type": "code",
   "execution_count": 22,
   "metadata": {},
   "outputs": [],
   "source": [
    "import networkx as nx\n",
    "\n"
   ]
  },
  {
   "cell_type": "code",
   "execution_count": null,
   "metadata": {},
   "outputs": [],
   "source": []
  }
 ],
 "metadata": {
  "kernelspec": {
   "display_name": "env",
   "language": "python",
   "name": "python3"
  },
  "language_info": {
   "codemirror_mode": {
    "name": "ipython",
    "version": 3
   },
   "file_extension": ".py",
   "mimetype": "text/x-python",
   "name": "python",
   "nbconvert_exporter": "python",
   "pygments_lexer": "ipython3",
   "version": "3.9.6"
  }
 },
 "nbformat": 4,
 "nbformat_minor": 2
}
